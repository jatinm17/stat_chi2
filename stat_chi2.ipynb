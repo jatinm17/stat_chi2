{
 "cells": [
  {
   "cell_type": "code",
   "execution_count": 1,
   "id": "bd2c3e93-7389-41e0-a49a-e6eacd4c13ee",
   "metadata": {},
   "outputs": [],
   "source": [
    "import numpy as np\n",
    "import scipy.stats as stats\n",
    "import matplotlib.pyplot as plt"
   ]
  },
  {
   "cell_type": "code",
   "execution_count": 19,
   "id": "608bfbf4-876c-45d7-9d33-6df6e397690d",
   "metadata": {},
   "outputs": [
    {
     "name": "stdout",
     "output_type": "stream",
     "text": [
      "95% Confidence Interval: [48.13, 51.87]\n"
     ]
    }
   ],
   "source": [
    "# QUESTION 1\n",
    "import scipy.stats as stats\n",
    "\n",
    "sample_mean = 50\n",
    "sample_std = 5\n",
    "sample_size = 30  # Assuming a sample size of 30 for demonstration purposes\n",
    "confidence_level = 0.95\n",
    "\n",
    "# Calculate the standard error of the mean\n",
    "standard_error = sample_std / (sample_size ** 0.5)\n",
    "\n",
    "# Calculate the margin of error\n",
    "margin_of_error = stats.t.ppf((1 + confidence_level) / 2, df=sample_size - 1) * standard_error\n",
    "\n",
    "# Calculate the lower and upper bounds of the confidence interval\n",
    "lower_bound = sample_mean - margin_of_error\n",
    "upper_bound = sample_mean + margin_of_error\n",
    "\n",
    "# Print the results\n",
    "print(\"95% Confidence Interval: [{:.2f}, {:.2f}]\".format(lower_bound, upper_bound))\n"
   ]
  },
  {
   "cell_type": "code",
   "execution_count": 13,
   "id": "3880b532-7026-4d9b-aa71-a2416119ea74",
   "metadata": {},
   "outputs": [
    {
     "name": "stdout",
     "output_type": "stream",
     "text": [
      "5.833333333333334\n",
      "0.05411376622282158\n",
      "[[15. 20.]\n",
      " [15. 20.]\n",
      " [15. 20.]]\n"
     ]
    }
   ],
   "source": [
    "# QUESTION 3\n",
    "data=[[20,15],[10,25],[15,20]]\n",
    "stat, p, dof, expected = stats.chi2_contingency(data)\n",
    "print(stat)\n",
    "print(p)\n",
    "print(expected)"
   ]
  },
  {
   "cell_type": "code",
   "execution_count": 22,
   "id": "2c12f698-2922-4c63-a04b-291af6440452",
   "metadata": {},
   "outputs": [
    {
     "name": "stdout",
     "output_type": "stream",
     "text": [
      "Sample Proportion (p̂): 0.12\n",
      "Margin of Error: 0.028483611128692923\n",
      "0.09151638887130707 0.1484836111286929\n"
     ]
    }
   ],
   "source": [
    "# QUESTION 4\n",
    "# Number of people who preferred Coke in the sample\n",
    "num_smoke = 60\n",
    "n=500\n",
    "# Sample proportion\n",
    "p_hat = num_smoke/ n\n",
    "\n",
    "# 99% confidence level (alpha = 0.01)\n",
    "alpha = 0.05\n",
    "# Calculate the standard error\n",
    "standard_error = np.sqrt((p_hat * (1 - p_hat)) / n)\n",
    "\n",
    "# Calculate the z-score for a 99% confidence level\n",
    "z_score = stats.norm.ppf(1-alpha/2)\n",
    "\n",
    "# Calculate the margin of error\n",
    "margin_of_error = z_score * standard_error\n",
    "\n",
    "# Calculate the lower and upper bounds of the confidence interval\n",
    "lower_bound = p_hat - margin_of_error\n",
    "upper_bound = p_hat + margin_of_error\n",
    "\n",
    "# Display the results\n",
    "print(\"Sample Proportion (p̂):\", p_hat)\n",
    "print(\"Margin of Error:\", margin_of_error)\n",
    "print(lower_bound,upper_bound)\n"
   ]
  },
  {
   "cell_type": "code",
   "execution_count": 20,
   "id": "8ae38093-83a8-4560-bf91-2747e6c4be8b",
   "metadata": {},
   "outputs": [
    {
     "name": "stdout",
     "output_type": "stream",
     "text": [
      "95% Confidence Interval: [70.52, 79.48]\n"
     ]
    }
   ],
   "source": [
    "# QUESTION 5\n",
    "import scipy.stats as stats\n",
    "\n",
    "sample_mean = 75\n",
    "sample_std = 12\n",
    "sample_size = 30  # Assuming a sample size of 30 for demonstration purposes\n",
    "confidence_level = 0.95\n",
    "\n",
    "# Calculate the standard error of the mean\n",
    "standard_error = sample_std / (sample_size ** 0.5)\n",
    "\n",
    "# Calculate the margin of error\n",
    "margin_of_error = stats.t.ppf((1 + confidence_level) / 2, df=sample_size - 1) * standard_error\n",
    "\n",
    "# Calculate the lower and upper bounds of the confidence interval\n",
    "lower_bound = sample_mean - margin_of_error\n",
    "upper_bound = sample_mean + margin_of_error\n",
    "\n",
    "# Print the results\n",
    "print(\"95% Confidence Interval: [{:.2f}, {:.2f}]\".format(lower_bound, upper_bound))\n"
   ]
  },
  {
   "cell_type": "code",
   "execution_count": 6,
   "id": "2ceccedd-4983-4b4f-b2df-6a015047a9e9",
   "metadata": {},
   "outputs": [
    {
     "data": {
      "text/plain": [
       "Text(0, 0.5, 'density')"
      ]
     },
     "execution_count": 6,
     "metadata": {},
     "output_type": "execute_result"
    },
    {
     "data": {
      "image/png": "[encoded data removed]",
      "text/plain": [
       "<Figure size 640x480 with 1 Axes>"
      ]
     },
     "metadata": {},
     "output_type": "display_data"
    }
   ],
   "source": [
    "# QUESTION 6\n",
    "x = np.arange(0, 20, 0.001)\n",
    "plt.plot(x, stats.chi2.pdf(x, df=10))\n",
    "plt.xlabel('x')\n",
    "plt.ylabel('density')"
   ]
  },
  {
   "cell_type": "code",
   "execution_count": 7,
   "id": "81d8881e-f44d-410e-bc09-27297c038a6d",
   "metadata": {},
   "outputs": [
    {
     "name": "stdout",
     "output_type": "stream",
     "text": [
      "Sample Proportion (p̂): 0.52\n",
      "Margin of Error: 0.040694842322030134\n",
      "0.4793051576779699 0.5606948423220302\n"
     ]
    }
   ],
   "source": [
    "# QUESTION 7\n",
    "import statsmodels.api as sm\n",
    "import numpy as np\n",
    "\n",
    "# Sample size\n",
    "n = 1000\n",
    "\n",
    "# Number of people who preferred Coke in the sample\n",
    "num_preferred_coke = 520\n",
    "\n",
    "# Sample proportion\n",
    "p_hat = num_preferred_coke / n\n",
    "\n",
    "# 99% confidence level (alpha = 0.01)\n",
    "alpha = 0.01\n",
    "# Calculate the standard error\n",
    "standard_error = np.sqrt((p_hat * (1 - p_hat)) / n)\n",
    "\n",
    "# Calculate the z-score for a 99% confidence level\n",
    "z_score = stats.norm.ppf(1-alpha/2)\n",
    "\n",
    "# Calculate the margin of error\n",
    "margin_of_error = z_score * standard_error\n",
    "\n",
    "# Calculate the lower and upper bounds of the confidence interval\n",
    "lower_bound = p_hat - margin_of_error\n",
    "upper_bound = p_hat + margin_of_error\n",
    "\n",
    "# Display the results\n",
    "print(\"Sample Proportion (p̂):\", p_hat)\n",
    "print(\"Margin of Error:\", margin_of_error)\n",
    "print(lower_bound,upper_bound)"
   ]
  },
  {
   "cell_type": "code",
   "execution_count": 8,
   "id": "26490416-664a-47c1-820d-89d0f3b30509",
   "metadata": {},
   "outputs": [
    {
     "name": "stdout",
     "output_type": "stream",
     "text": [
      "1.0\n",
      "1\n",
      "3.841458820694124\n",
      "Accept the null hypothesis\n"
     ]
    }
   ],
   "source": [
    "# QUESTION 8\n",
    "observed=[45,55]\n",
    "expected=[50,50]\n",
    "chisquare_test_statistic,p_value=stats.chisquare(observed,expected)\n",
    "print(chisquare_test_statistic)\n",
    "significane_value=0.05\n",
    "dof=len(expected)-1\n",
    "print(dof)\n",
    "critical_value=stats.chi2.ppf(1-significane_value,dof)\n",
    "print(critical_value)\n",
    "if chisquare_test_statistic > critical_value:\n",
    "    print(\"Reject the null hypothesis\")\n",
    "else:\n",
    "    print(\"Accept the null hypothesis\")"
   ]
  },
  {
   "cell_type": "code",
   "execution_count": 16,
   "id": "83104801-6235-41f9-8b40-0d590851cacc",
   "metadata": {},
   "outputs": [
    {
     "name": "stdout",
     "output_type": "stream",
     "text": [
      "[[ 45. 155.]\n",
      " [ 45. 155.]]\n",
      "12.057347670250895\n",
      "0.0005158863863703744\n",
      "1\n",
      "3.841458820694124\n",
      "realtion present\n"
     ]
    }
   ],
   "source": [
    "# QUESTION 9\n",
    "data=[[60,140],[30,170]]\n",
    "stat, p, dof, expected = stats.chi2_contingency(data)\n",
    "print(expected)\n",
    "print(stat)\n",
    "print(p)\n",
    "print(dof)\n",
    "significane_value=0.05\n",
    "critical_value=stats.chi2.ppf(1-significane_value,dof)\n",
    "print(critical_value)\n",
    "if chisquare_test_statistic > critical_value:\n",
    "    print(\"Relation absent\")\n",
    "else:\n",
    "    print(\"realtion present\")"
   ]
  },
  {
   "cell_type": "code",
   "execution_count": 17,
   "id": "5f52bf84-a1a0-4770-b84d-d296ee93f808",
   "metadata": {},
   "outputs": [
    {
     "name": "stdout",
     "output_type": "stream",
     "text": [
      "[[ 98.48484848 128.03030303  98.48484848]\n",
      " [151.51515152 196.96969697 151.51515152]]\n",
      "141.15310650887574\n",
      "2.233532981372048e-31\n",
      "2\n",
      "5.991464547107979\n",
      "realtion present\n"
     ]
    }
   ],
   "source": [
    "# QUESTION 10\n",
    "data=[[25,150,150],[225,175,100]]\n",
    "stat, p, dof, expected = stats.chi2_contingency(data)\n",
    "print(expected)\n",
    "print(stat)\n",
    "print(p)\n",
    "print(dof)\n",
    "significane_value=0.05\n",
    "critical_value=stats.chi2.ppf(1-significane_value,dof)\n",
    "print(critical_value)\n",
    "if chisquare_test_statistic > critical_value:\n",
    "    print(\"Relation absent\")\n",
    "else:\n",
    "    print(\"realtion present\")"
   ]
  },
  {
   "cell_type": "code",
   "execution_count": 18,
   "id": "53996b0c-25f0-412e-bf18-f67c8533792f",
   "metadata": {},
   "outputs": [
    {
     "name": "stdout",
     "output_type": "stream",
     "text": [
      "Fail to reject the null hypothesis. There is no significant difference from 70.\n"
     ]
    }
   ],
   "source": [
    "# QUESTION 11\n",
    "import scipy.stats as stats\n",
    "\n",
    "# Given data\n",
    "sample_mean = 72\n",
    "sample_std = 10\n",
    "sample_size = 30\n",
    "pop_mean = 70\n",
    "significance_level = 0.05\n",
    "\n",
    "# Calculate the test statistic (t-value)\n",
    "t_value = (sample_mean - pop_mean) / (sample_std / (sample_size ** 0.5))\n",
    "\n",
    "# Calculate the degrees of freedom\n",
    "degrees_of_freedom = sample_size - 1\n",
    "\n",
    "# Calculate the critical t-value for a two-tailed test\n",
    "critical_t = stats.t.ppf(1 - significance_level / 2, df=degrees_of_freedom)\n",
    "\n",
    "# Perform the hypothesis test\n",
    "if abs(t_value) > critical_t:\n",
    "    print(\"Reject the null hypothesis. The population mean is significantly different from 70.\")\n",
    "else:\n",
    "    print(\"Fail to reject the null hypothesis. There is no significant difference from 70.\")\n",
    "\n"
   ]
  },
  {
   "cell_type": "code",
   "execution_count": 23,
   "id": "12de3ab2-dec8-470e-8022-f3f38c57c7b1",
   "metadata": {},
   "outputs": [
    {
     "name": "stdout",
     "output_type": "stream",
     "text": [
      "95% Confidence Interval for the proportion of smokers: [0.0915, 0.1485]\n"
     ]
    }
   ],
   "source": [
    "import scipy.stats as stats\n",
    "\n",
    "total_population = 500\n",
    "sample_size = 60\n",
    "confidence_level = 0.95\n",
    "\n",
    "# Calculate the proportion of individuals who smoke in the sample\n",
    "sample_proportion = sample_size / total_population\n",
    "\n",
    "# Calculate the standard error of the proportion\n",
    "standard_error = (sample_proportion * (1 - sample_proportion) / total_population) ** 0.5\n",
    "\n",
    "# Calculate the margin of error\n",
    "margin_of_error = stats.norm.ppf((1 + confidence_level) / 2) * standard_error\n",
    "\n",
    "# Calculate the lower and upper bounds of the confidence interval\n",
    "lower_bound = sample_proportion - margin_of_error\n",
    "upper_bound = sample_proportion + margin_of_error\n",
    "\n",
    "# Print the results\n",
    "print(\"95% Confidence Interval for the proportion of smokers: [{:.4f}, {:.4f}]\".format(lower_bound, upper_bound))\n"
   ]
  },
  {
   "cell_type": "code",
   "execution_count": null,
   "id": "ea75ee81-e94b-4d39-b1f8-cfd5480c45b0",
   "metadata": {},
   "outputs": [],
   "source": []
  }
 ],
 "metadata": {
  "kernelspec": {
   "display_name": "Python 3 (ipykernel)",
   "language": "python",
   "name": "python3"
  },
  "language_info": {
   "codemirror_mode": {
    "name": "ipython",
    "version": 3
   },
   "file_extension": ".py",
   "mimetype": "text/x-python",
   "name": "python",
   "nbconvert_exporter": "python",
   "pygments_lexer": "ipython3",
   "version": "3.10.8"
  }
 },
 "nbformat": 4,
 "nbformat_minor": 5
}
